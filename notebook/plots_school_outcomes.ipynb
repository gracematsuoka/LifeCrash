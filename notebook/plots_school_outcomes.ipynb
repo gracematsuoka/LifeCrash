{
 "cells": [
  {
   "cell_type": "code",
   "execution_count": 15,
   "metadata": {},
   "outputs": [],
   "source": [
    "import pandas as pd\n",
    "import seaborn as sb\n",
    "import matplotlib as mp\n",
    "import numpy as np\n",
    "\n",
    "df = pd.read_csv('education_career_success.csv') # make sure dataset is in notebook folder\n"
   ]
  },
  {
   "cell_type": "code",
   "execution_count": 16,
   "metadata": {},
   "outputs": [],
   "source": [
    "# Creating new columns that we will use for prediction\n",
    "df['Risk_Score'] = (10 - df['Career_Satisfaction']) + (10 - df['Work_Life_Balance']) + (df['Years_to_Promotion'] - 1)\n",
    "df['Instability_Flag'] = ((df['Job_Offers'] < 1) | (df['Starting_Salary'] < 40000) | (df['University_Ranking'] > 700)).astype(int)\n",
    "df['Change_Tendency'] = ((df['Entrepreneurship'] == 'Yes') | (df['Projects_Completed'] > 5)).astype(int)"
   ]
  },
  {
   "cell_type": "code",
   "execution_count": 17,
   "metadata": {},
   "outputs": [],
   "source": [
    "# Creating target variables\n",
    "df['Crisis_Age'] = df['Age'] + np.random.randint(10, 20) - (df['Risk_Score'] // 3)\n",
    "df['Crisis_Intensity'] = np.clip((df['Risk_Score'] // 2) + df['Instability_Flag']*2, 1, 5)\n",
    "\n",
    "def assign_crisis_form(row):\n",
    "    if row['Change_Tendency']:\n",
    "        return np.random.choice(['Career change', 'Entrepreneurship', 'Extreme hobby'])\n",
    "    elif row['Field_of_Study'] in ['Business', 'Finance']:\n",
    "        return np.random.choice(['Extreme purchase', 'Weird hobby'])\n",
    "    else:\n",
    "        return np.random.choice(['Breakup', 'Travel adventure', 'Mild career shift'])\n",
    "\n",
    "df['Crisis_Form'] = df.apply(assign_crisis_form, axis=1)"
   ]
  },
  {
   "cell_type": "code",
   "execution_count": 19,
   "metadata": {},
   "outputs": [
    {
     "name": "stdout",
     "output_type": "stream",
     "text": [
      "Model Accuracy: 0.825\n"
     ]
    }
   ],
   "source": [
    "# Model building\n",
    "from sklearn.model_selection import train_test_split\n",
    "from sklearn.ensemble import RandomForestClassifier\n",
    "\n",
    "# Pick features and target\n",
    "X = df[['High_School_GPA', 'University_GPA', 'Internships_Completed', 'Risk_Score', 'Soft_Skills_Score', 'Networking_Score']]\n",
    "y = df['Crisis_Intensity']\n",
    "\n",
    "# Split into training and testing sets\n",
    "X_train, X_test, y_train, y_test = train_test_split(X, y, test_size=0.2, random_state=42)\n",
    "\n",
    "# Train a model\n",
    "model = RandomForestClassifier()\n",
    "model.fit(X_train, y_train)\n",
    "\n",
    "# See how well it does\n",
    "print(\"Model Accuracy:\", model.score(X_test, y_test))"
   ]
  },
  {
   "cell_type": "code",
   "execution_count": 20,
   "metadata": {},
   "outputs": [
    {
     "name": "stdout",
     "output_type": "stream",
     "text": [
      "MAE: 0.264\n",
      "MSE: 0.442\n",
      "R2 Score: 0.3880963983520135\n"
     ]
    }
   ],
   "source": [
    "# is the model good\n",
    "\n",
    "from sklearn.metrics import mean_absolute_error, mean_squared_error, r2_score\n",
    "\n",
    "y_pred = model.predict(X_test)\n",
    "print(\"MAE:\", mean_absolute_error(y_test, y_pred))\n",
    "print(\"MSE:\", mean_squared_error(y_test, y_pred))\n",
    "print(\"R2 Score:\", r2_score(y_test, y_pred))"
   ]
  },
  {
   "cell_type": "code",
   "execution_count": 23,
   "metadata": {},
   "outputs": [
    {
     "ename": "NameError",
     "evalue": "name 'crisis_int' is not defined",
     "output_type": "error",
     "traceback": [
      "\u001b[31m---------------------------------------------------------------------------\u001b[39m",
      "\u001b[31mNameError\u001b[39m                                 Traceback (most recent call last)",
      "\u001b[36mCell\u001b[39m\u001b[36m \u001b[39m\u001b[32mIn[23]\u001b[39m\u001b[32m, line 16\u001b[39m\n\u001b[32m      8\u001b[39m crisis_intensity = (\n\u001b[32m      9\u001b[39m     (\u001b[32m4\u001b[39m - df[\u001b[33m'\u001b[39m\u001b[33mWork_Life_Balance\u001b[39m\u001b[33m'\u001b[39m]) * \u001b[32m0.3\u001b[39m + \n\u001b[32m     10\u001b[39m     (\u001b[32m10\u001b[39m - df[\u001b[33m'\u001b[39m\u001b[33mCareer_Satisfaction\u001b[39m\u001b[33m'\u001b[39m]) * \u001b[32m0.4\u001b[39m +\n\u001b[32m     11\u001b[39m     (\u001b[32m4.0\u001b[39m - df[\u001b[33m'\u001b[39m\u001b[33mUniversity_GPA\u001b[39m\u001b[33m'\u001b[39m]) * \u001b[32m0.3\u001b[39m +\n\u001b[32m     12\u001b[39m     np.random.normal(\u001b[32m0\u001b[39m, \u001b[32m0.2\u001b[39m, \u001b[38;5;28mlen\u001b[39m(df))  \u001b[38;5;66;03m# add a little randomness\u001b[39;00m\n\u001b[32m     13\u001b[39m )\n\u001b[32m     15\u001b[39m \u001b[38;5;66;03m# Clip the values between 0 and 10, like a rating scale\u001b[39;00m\n\u001b[32m---> \u001b[39m\u001b[32m16\u001b[39m crisis_intensity = np.clip(\u001b[43mcrisis_int\u001b[49m)\n\u001b[32m     18\u001b[39m \u001b[38;5;66;03m# features and target\u001b[39;00m\n\u001b[32m     19\u001b[39m X = df[[\u001b[33m'\u001b[39m\u001b[33mUniversity_GPA\u001b[39m\u001b[33m'\u001b[39m, \u001b[33m'\u001b[39m\u001b[33mSoft_Skills_Score\u001b[39m\u001b[33m'\u001b[39m, \u001b[33m'\u001b[39m\u001b[33mNetworking_Score\u001b[39m\u001b[33m'\u001b[39m, \u001b[33m'\u001b[39m\u001b[33mCareer_Satisfaction\u001b[39m\u001b[33m'\u001b[39m, \u001b[33m'\u001b[39m\u001b[33mWork_Life_Balance\u001b[39m\u001b[33m'\u001b[39m]]\n",
      "\u001b[31mNameError\u001b[39m: name 'crisis_int' is not defined"
     ]
    }
   ],
   "source": [
    "# Random Forest Regressor\n",
    "\n",
    "from sklearn.ensemble import RandomForestRegressor\n",
    "from sklearn.model_selection import train_test_split\n",
    "from sklearn.metrics import mean_absolute_error, mean_squared_error, r2_score\n",
    "# Generate a synthetic crisis_intensity score\n",
    "np.random.seed(42)\n",
    "crisis_intensity = (\n",
    "    (4 - df['Work_Life_Balance']) * 0.3 + \n",
    "    (10 - df['Career_Satisfaction']) * 0.4 +\n",
    "    (4.0 - df['University_GPA']) * 0.3 +\n",
    "    np.random.normal(0, 0.2, len(df))  # add a little randomness\n",
    ")\n",
    "\n",
    "# Clip the values between 0 and 10, like a rating scale\n",
    "crisis_intensity = np.clip(crisis_int)\n",
    "\n",
    "# features and target\n",
    "X = df[['University_GPA', 'Soft_Skills_Score', 'Networking_Score', 'Career_Satisfaction', 'Work_Life_Balance']]\n",
    "y = crisis_intensity  # the same synthetic target we generated\n",
    "\n",
    "# split data\n",
    "X_train, X_test, y_train, y_test = train_test_split(X, y, test_size=0.2, random_state=42)\n",
    "\n",
    "# model\n",
    "rf_model = RandomForestRegressor(n_estimators=100, random_state=42)\n",
    "rf_model.fit(X_train, y_train)\n",
    "\n",
    "# predictions\n",
    "y_pred = rf_model.predict(X_test)\n",
    "\n",
    "# metrics\n",
    "print(\"MAE:\", mean_absolute_error(y_test, y_pred))\n",
    "print(\"MSE:\", mean_squared_error(y_test, y_pred))\n",
    "print(\"R2 Score:\", r2_score(y_test, y_pred))\n"
   ]
  }
 ],
 "metadata": {
  "kernelspec": {
   "display_name": "Python 3",
   "language": "python",
   "name": "python3"
  },
  "language_info": {
   "codemirror_mode": {
    "name": "ipython",
    "version": 3
   },
   "file_extension": ".py",
   "mimetype": "text/x-python",
   "name": "python",
   "nbconvert_exporter": "python",
   "pygments_lexer": "ipython3",
   "version": "3.13.2"
  }
 },
 "nbformat": 4,
 "nbformat_minor": 2
}
